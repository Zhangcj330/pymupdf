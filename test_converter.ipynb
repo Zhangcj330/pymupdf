{
 "cells": [
  {
   "cell_type": "code",
   "execution_count": 29,
   "metadata": {},
   "outputs": [
    {
     "name": "stdout",
     "output_type": "stream",
     "text": [
      "Processing AMP-Elevate-insurance-PDS_10-June-2017.pdf...\n",
      "[                                        ] (0/1=======================================[========================================] (1/1]\n",
      "###### Purchasing plans outside and through super\n",
      "\n",
      "AMP Elevate provides ways to structure your plan by acquiring and paying for it outside or through super. We offer\n",
      "both super and SMSF plans to suit your needs.\n",
      "\n",
      "**Flexible linking options – You can link TPD, Trauma and Income insurance cover outside super, with cover acquired**\n",
      "through super. This can help manage your cashflow while enjoying the benefits of coverage options only available\n",
      "outside super. For more details about FlexiLink, PremierLink or StandardLink, see pages 18 to 22.\n",
      "\n",
      "###### Insurance purchased outside super\n",
      "\n",
      "When purchasing insurance as a plan outside super, you can choose to link other types of insurance cover as options\n",
      "to your plan.\n",
      "\n",
      "**Life, TPD and Trauma insurance**\n",
      "\n",
      "**Standalone plans** **Linked cover**\n",
      "\n",
      "**If we pay a benefit under a linked option added in Step 2, the sum insured of each remaining**\n",
      "**linked cover (plans and options) for that insured person is reduced by the amount we pay,**\n",
      "**unless we state otherwise in this PDS.**\n",
      "\n",
      "**Step 1** **Step 2a** **Step 2b**\n",
      "**You can select one or more plans** **You can choose to link other types of** **There are many other options available that can**\n",
      "\n",
      "**insurance cover as options to your plan** **be added to your plan or option**\n",
      "\n",
      "**Life insurance** – TPD option For other options available on life insurance plans\n",
      "\n",
      "– Trauma option see pages 38 to 39.\n",
      "\n",
      "Life Insurance Plan\n",
      "\n",
      "– Children’s Trauma option\n",
      "\n",
      "**TPD insurance** – Children’s Trauma option Forotheroptionsavailableon **TPDinsuranceplans**\n",
      "\n",
      "see page 42.\n",
      "\n",
      "TPD Insurance Plan\n",
      "\n",
      "**Trauma insurance** – TPD option For other options available on trauma insurance\n",
      "\n",
      "– Children’s Trauma option **plans, see page 44.**\n",
      "\n",
      "Trauma Insurance Plan\n",
      "\n",
      "Trauma Insurance Plus Plan\n",
      "\n",
      "**Income insurance and Business expenses insurance**\n",
      "\n",
      "\n",
      "-----\n",
      "\n",
      "\n"
     ]
    }
   ],
   "source": [
    "import pymupdf4llm\n",
    "\n",
    "# to_markdown() converts a PDF file to Markdown format\n",
    "# Parameters:\n",
    "#   - filename: Path to the PDF file to convert\n",
    "#   - write_images: Whether to extract and save images (default: False)\n",
    "#   - pages: List of page numbers to convert (default: None = all pages)\n",
    "# Returns:\n",
    "#   - String containing the Markdown text extracted from the PDF\n",
    "md_text = pymupdf4llm.to_markdown(\"AMP-Elevate-insurance-PDS_10-June-2017.pdf\", write_images=True, pages = [9])\n",
    "print(md_text)"
   ]
  },
  {
   "cell_type": "code",
   "execution_count": 3,
   "metadata": {},
   "outputs": [
    {
     "name": "stdout",
     "output_type": "stream",
     "text": [
      "['']\n"
     ]
    }
   ],
   "source": [
    "import pymupdf\n",
    "\n",
    "# get_text() extracts text content from an image file\n",
    "# It uses OCR (Optical Character Recognition) to detect and extract \n",
    "# text from the image, returning it as a string\n",
    "# Parameters:\n",
    "#   - filename: Path to the image file to extract text from\n",
    "\n",
    "picture_text = pymupdf.get_text(\"AMP-Elevate-insurance-PDS_10-June-2017.pdf-32-0.png\")\n",
    "print(picture_text)"
   ]
  },
  {
   "cell_type": "code",
   "execution_count": 24,
   "metadata": {},
   "outputs": [
    {
     "data": {
      "text/html": [
       "<div>\n",
       "<style scoped>\n",
       "    .dataframe tbody tr th:only-of-type {\n",
       "        vertical-align: middle;\n",
       "    }\n",
       "\n",
       "    .dataframe tbody tr th {\n",
       "        vertical-align: top;\n",
       "    }\n",
       "\n",
       "    .dataframe thead th {\n",
       "        text-align: right;\n",
       "    }\n",
       "</style>\n",
       "<table border=\"1\" class=\"dataframe\">\n",
       "  <thead>\n",
       "    <tr style=\"text-align: right;\">\n",
       "      <th></th>\n",
       "      <th>Maximum monthly benefit amount on entry</th>\n",
       "      <th>Col1</th>\n",
       "    </tr>\n",
       "  </thead>\n",
       "  <tbody>\n",
       "    <tr>\n",
       "      <th>0</th>\n",
       "      <td>Occupation cat\\nOccupation cat</td>\n",
       "      <td>egory\\negories and descriptions are explained ...</td>\n",
       "    </tr>\n",
       "    <tr>\n",
       "      <th>1</th>\n",
       "      <td>an type MP, AA, A B, C D F BY, CY, DY</td>\n",
       "      <td>None</td>\n",
       "    </tr>\n",
       "    <tr>\n",
       "      <th>2</th>\n",
       "      <td>(i)\\ncome Insurance $60,000\\nperannuation Plan...</td>\n",
       "      <td>(iv) (iii)\\n$30,000 $30,000 $3,500 $30,000\\n$6...</td>\n",
       "    </tr>\n",
       "    <tr>\n",
       "      <th>3</th>\n",
       "      <td>(v)\\ncome Insurance Senior Plan $30,000</td>\n",
       "      <td>N/A N/A N/A N/A</td>\n",
       "    </tr>\n",
       "    <tr>\n",
       "      <th>4</th>\n",
       "      <td>usiness Expenses Insurance $40,000\\nan</td>\n",
       "      <td>$40,000 $40,000 N/A N/A</td>\n",
       "    </tr>\n",
       "  </tbody>\n",
       "</table>\n",
       "</div>"
      ],
      "text/plain": [
       "             Maximum monthly benefit amount on entry  \\\n",
       "0                     Occupation cat\\nOccupation cat   \n",
       "1              an type MP, AA, A B, C D F BY, CY, DY   \n",
       "2  (i)\\ncome Insurance $60,000\\nperannuation Plan...   \n",
       "3            (v)\\ncome Insurance Senior Plan $30,000   \n",
       "4             usiness Expenses Insurance $40,000\\nan   \n",
       "\n",
       "                                                Col1  \n",
       "0  egory\\negories and descriptions are explained ...  \n",
       "1                                               None  \n",
       "2  (iv) (iii)\\n$30,000 $30,000 $3,500 $30,000\\n$6...  \n",
       "3                                    N/A N/A N/A N/A  \n",
       "4                            $40,000 $40,000 N/A N/A  "
      ]
     },
     "execution_count": 24,
     "metadata": {},
     "output_type": "execute_result"
    }
   ],
   "source": [
    "import pymupdf\n",
    "\n",
    "# This code extracts table data from a PDF file using PyMuPDF\n",
    "# 1. Opens the PDF document\n",
    "# 2. Finds tables on the page\n",
    "# 3. Converts the first found table to a pandas DataFrame\n",
    "# The snap_x_tolerance parameter controls how close lines need to be to snap together\n",
    "\n",
    "doc = pymupdf.open(\"AMP-Elevate-insurance-PDS_10-June-2017.pdf\")\n",
    "page = doc[23]\n",
    "\n",
    "tabs = page.find_tables(\n",
    "    vertical_strategy=\"lines\",    # Use text spacing for vertical detection\n",
    "    horizontal_strategy=\"lines\",  # Use text spacing for horizontal detection\n",
    "    snap_x_tolerance = 69        # Controls line snapping tolerance\n",
    ")\n",
    "tab = tabs[0]  # Get first table found\n",
    "df = tab.to_pandas()  # Convert to pandas DataFrame\n",
    "\n",
    "# Display the extracted table data\n",
    "df"
   ]
  },
  {
   "cell_type": "code",
   "execution_count": null,
   "metadata": {},
   "outputs": [],
   "source": []
  },
  {
   "cell_type": "code",
   "execution_count": null,
   "metadata": {},
   "outputs": [],
   "source": [
    "\n"
   ]
  }
 ],
 "metadata": {
  "kernelspec": {
   "display_name": "Python 3",
   "language": "python",
   "name": "python3"
  },
  "language_info": {
   "codemirror_mode": {
    "name": "ipython",
    "version": 3
   },
   "file_extension": ".py",
   "mimetype": "text/x-python",
   "name": "python",
   "nbconvert_exporter": "python",
   "pygments_lexer": "ipython3",
   "version": "3.10.11"
  }
 },
 "nbformat": 4,
 "nbformat_minor": 2
}
